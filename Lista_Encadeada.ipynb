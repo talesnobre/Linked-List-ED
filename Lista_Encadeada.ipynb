{
 "cells": [
  {
   "attachments": {},
   "cell_type": "markdown",
   "metadata": {},
   "source": [
    "### Estrutura de Dados\n",
    "### Lista encadeada (dinâmica)"
   ]
  },
  {
   "attachments": {},
   "cell_type": "markdown",
   "metadata": {},
   "source": [
    "#### Aluno: Tales Nobre Leite Dias de Oliveira / Matrícula: 20200025983\n",
    "#### Professor: Gilberto Farias de Sousa Filho"
   ]
  },
  {
   "attachments": {},
   "cell_type": "markdown",
   "metadata": {},
   "source": [
    "#### Criando as Classes: No e Lista Encadeada"
   ]
  },
  {
   "cell_type": "code",
   "execution_count": 22,
   "metadata": {},
   "outputs": [],
   "source": [
    "class No:\n",
    "    def __init__(self, valor=None):\n",
    "        self.valor = valor\n",
    "        self.proximo = None\n",
    "\n",
    "class ListaEncadeada:\n",
    "    def __init__(self):\n",
    "        self.primeiro_no = None\n",
    "\n",
    "    def esta_vazia(self):\n",
    "        return self.primeiro_no is None\n",
    "\n",
    "    def tamanho(self):\n",
    "        contador = 0\n",
    "        no_atual = self.primeiro_no\n",
    "        while no_atual:\n",
    "            contador += 1\n",
    "            no_atual = no_atual.proximo\n",
    "        return contador\n",
    "\n",
    "    def obter(self, posicao):\n",
    "        if posicao < 1 or posicao > self.tamanho():\n",
    "            return None\n",
    "        contador = 1\n",
    "        no_atual = self.primeiro_no\n",
    "        while contador < posicao:\n",
    "            no_atual = no_atual.proximo\n",
    "            contador += 1\n",
    "        return no_atual.valor\n",
    "\n",
    "    def modificar(self, posicao, valor):\n",
    "        if posicao < 1 or posicao > self.tamanho():\n",
    "            return False\n",
    "        contador = 1\n",
    "        no_atual = self.primeiro_no\n",
    "        while contador < posicao:\n",
    "            no_atual = no_atual.proximo\n",
    "            contador += 1\n",
    "        no_atual.valor = valor\n",
    "        return True\n",
    "\n",
    "    def inserir(self, posicao, valor):\n",
    "        if posicao < 1 or posicao > self.tamanho() + 1:\n",
    "            return False\n",
    "        novo_no = No(valor)\n",
    "        if posicao == 1:\n",
    "            novo_no.proximo = self.primeiro_no\n",
    "            self.primeiro_no = novo_no\n",
    "        else:\n",
    "            contador = 1\n",
    "            no_atual = self.primeiro_no\n",
    "            while contador < posicao - 1:\n",
    "                no_atual = no_atual.proximo\n",
    "                contador += 1\n",
    "            novo_no.proximo = no_atual.proximo\n",
    "            no_atual.proximo = novo_no\n",
    "\n",
    "    def retirar(self, posicao):\n",
    "        if posicao < 1 or posicao > self.tamanho():\n",
    "            return None\n",
    "        if posicao == 1:\n",
    "            valor = self.primeiro_no.valor\n",
    "            self.primeiro_no = self.primeiro_no.proximo\n",
    "        else:\n",
    "            contador = 1\n",
    "            no_atual = self.primeiro_no\n",
    "            while contador < posicao - 1:\n",
    "                no_atual = no_atual.proximo\n",
    "\n",
    "    def imprimir(self):\n",
    "        no_atual = self.primeiro_no\n",
    "        while no_atual:\n",
    "            print(no_atual.valor, end=' ')\n",
    "            no_atual = no_atual.proximo\n"
   ]
  },
  {
   "attachments": {},
   "cell_type": "markdown",
   "metadata": {},
   "source": [
    "#### Exibindo a Lista"
   ]
  },
  {
   "cell_type": "code",
   "execution_count": 56,
   "metadata": {},
   "outputs": [
    {
     "name": "stdout",
     "output_type": "stream",
     "text": [
      "Lista vazia: True\n",
      "Tamanho da lista: 9\n",
      "2\n",
      "1 2 7 4 5 6 7 8 9 2\n",
      "None\n",
      "9\n",
      "1 2 7 4 5 6 7 8 9 "
     ]
    }
   ],
   "source": [
    "lista = ListaEncadeada()\n",
    "\n",
    "# Verificar se a lista está vazia\n",
    "print(\"Lista vazia:\", lista.esta_vazia())\n",
    "\n",
    "#Inserir elementos de 1 até 9 na lista\n",
    "for i in range(1, 10):\n",
    "    lista.inserir(i, i)\n",
    "\n",
    "# Obter o tamanho da lista\n",
    "print(\"Tamanho da lista:\", lista.tamanho())\n",
    "\n",
    "# Obter/modificar o valor do elemento de uma determinada posição na lista\n",
    "print(lista.obter(2))\n",
    "lista.modificar(3, 7)\n",
    "lista.imprimir()\n",
    "print(lista.obter(2))\n",
    "\n",
    "# Retirar um elemento de uma determinada posição\n",
    "print(lista.retirar(2))\n",
    "print(lista.tamanho())\n",
    "\n",
    "# Imprimir os elementos de toda a lista\n",
    "lista.imprimir()"
   ]
  }
 ],
 "metadata": {
  "kernelspec": {
   "display_name": "base",
   "language": "python",
   "name": "python3"
  },
  "language_info": {
   "codemirror_mode": {
    "name": "ipython",
    "version": 3
   },
   "file_extension": ".py",
   "mimetype": "text/x-python",
   "name": "python",
   "nbconvert_exporter": "python",
   "pygments_lexer": "ipython3",
   "version": "3.9.13"
  },
  "orig_nbformat": 4
 },
 "nbformat": 4,
 "nbformat_minor": 2
}
